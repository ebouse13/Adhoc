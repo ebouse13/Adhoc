{
 "cells": [
  {
   "cell_type": "code",
   "execution_count": 1,
   "metadata": {},
   "outputs": [],
   "source": [
    "import logging\n",
    "from linkedin_jobs_scraper import LinkedinScraper\n",
    "from linkedin_jobs_scraper.events import Events, EventData\n",
    "from linkedin_jobs_scraper.query import Query, QueryOptions, QueryFilters\n",
    "from linkedin_jobs_scraper.filters import RelevanceFilters, TimeFilters, TypeFilters, ExperienceLevelFilters\n",
    "import pandas as pd\n",
    "\n",
    "columns = ['job_id','title', 'company', 'date', 'place', 'location', 'link', 'description',  'len_desc', 'seniority_level',\n",
    "          'job_function', 'employment_type', 'industries']\n",
    "#initialising data\n",
    "joblist = []\n",
    "\n",
    "# Change root logger level (default is WARN)\n",
    "logging.basicConfig(level = logging.INFO)\n",
    "\n",
    "def on_data(data: EventData):\n",
    "    #print(data)\n",
    "    print('[ON_DATA]', data.title, data.company, data.date, data.link, len(data.description))\n",
    "    joblist.append( [data.job_id, data.title, data.company, data.date, data.place, data.location, data.link, data.description,\n",
    "                    len(data.description), data.seniority_level, data.job_function, data.employment_type, data.industries])\n",
    "    \n",
    "\n",
    "\n",
    "def on_error(error):\n",
    "    print('[ON_ERROR]', error)\n",
    "\n",
    "\n",
    "def on_end():\n",
    "    print('[ON_END]')"
   ]
  },
  {
   "cell_type": "code",
   "execution_count": 2,
   "metadata": {},
   "outputs": [
    {
     "name": "stderr",
     "output_type": "stream",
     "text": [
      "INFO:li:scraper:('Using strategy AnonymousStrategy',)\n"
     ]
    }
   ],
   "source": [
    "scraper = LinkedinScraper(\n",
    "    chrome_executable_path = \"C:/Users/ebous/chromedriver.exe\", # Custom Chrome executable path (e.g. /foo/bar/bin/chromedriver) \n",
    "    chrome_options=None,  # Custom Chrome options here\n",
    "    headless=True,  # Overrides headless mode only if chrome_options is None\n",
    "    max_workers=3,  # How many threads will be spawned to run queries concurrently (one Chrome driver for each thread)\n",
    "    slow_mo=20,  # Slow down the scraper to avoid 'Too many requests (429)' errors\n",
    ")"
   ]
  },
  {
   "cell_type": "code",
   "execution_count": 3,
   "metadata": {},
   "outputs": [],
   "source": [
    "# Add event listeners\n",
    "scraper.on(Events.DATA, on_data)\n",
    "scraper.on(Events.ERROR, on_error)\n",
    "scraper.on(Events.END, on_end)"
   ]
  },
  {
   "cell_type": "code",
   "execution_count": 4,
   "metadata": {},
   "outputs": [],
   "source": [
    "queries = [\n",
    "#     Query(\n",
    "#         options=QueryOptions(\n",
    "#             optimize=True,  # Blocks requests for resources like images and stylesheet\n",
    "#             limit=5  # Limit the number of jobs to scrape\n",
    "#         )\n",
    "#     ),\n",
    "    Query(\n",
    "        query='Actuary', #Actuary\n",
    "        options=QueryOptions(\n",
    "            locations=['United Kingdom'],\n",
    "            optimize=True,\n",
    "            limit=150,\n",
    "#             filters=QueryFilters(\n",
    "#                 company_jobs_url='https://www.linkedin.com/jobs/search/?geoId=91000002&keywords=actuary&location=European%20Economic%20Area',  # Filter by companies\n",
    "#                 relevance=RelevanceFilters.RECENT,\n",
    "#                 time=TimeFilters.MONTH,\n",
    "#                 type=[TypeFilters.FULL_TIME, TypeFilters.INTERNSHIP],\n",
    "#                 experience=None,\n",
    "#            )\n",
    "        )\n",
    "    ),\n",
    "]\n"
   ]
  },
  {
   "cell_type": "code",
   "execution_count": 5,
   "metadata": {},
   "outputs": [
    {
     "name": "stderr",
     "output_type": "stream",
     "text": [
      "INFO:li:scraper:('Starting new query', \"Query(query=Actuary options=QueryOptions(limit=150 locations=['United Kingdom'] optimize=True))\")\n",
      "INFO:li:scraper:('[Actuary][United Kingdom]', 'Opening https://www.linkedin.com/jobs/search?keywords=Actuary&location=United+Kingdom&redirect=false&position=1&pageNum=0')\n",
      "INFO:li:scraper:('[Actuary][United Kingdom]', 'Found 24 jobs')\n",
      "INFO:li:scraper:('[Actuary][United Kingdom][1]', 'Processed')\n"
     ]
    },
    {
     "name": "stdout",
     "output_type": "stream",
     "text": [
      "[ON_DATA] Actuary Just Group plc 2021-02-04 https://uk.linkedin.com/jobs/view/actuary-at-just-group-plc-2388654406?refId=989ec734-0db2-4735-9432-26284a085d2c&trackingId=Rm2u3NAILEmW4DTdcAcatg%3D%3D&position=1&pageNum=0&trk=public_jobs_job-result-card_result-card_full-click 3434\n"
     ]
    },
    {
     "name": "stderr",
     "output_type": "stream",
     "text": [
      "INFO:li:scraper:('[Actuary][United Kingdom][2]', 'Processed')\n"
     ]
    },
    {
     "name": "stdout",
     "output_type": "stream",
     "text": [
      "[ON_DATA] Aerospace Actuary AIG 2021-02-02 https://uk.linkedin.com/jobs/view/aerospace-actuary-at-aig-2392347542?refId=989ec734-0db2-4735-9432-26284a085d2c&trackingId=UyZ4r9BtGVR77Dh2kA9tdw%3D%3D&position=2&pageNum=0&trk=public_jobs_job-result-card_result-card_full-click 3434\n"
     ]
    },
    {
     "name": "stderr",
     "output_type": "stream",
     "text": [
      "INFO:li:scraper:('[Actuary][United Kingdom][3]', 'Processed')\n"
     ]
    },
    {
     "name": "stdout",
     "output_type": "stream",
     "text": [
      "[ON_DATA] Capital Modelling Actuary London Market Insurer 2021-02-03 https://uk.linkedin.com/jobs/view/capital-modelling-actuary-at-london-market-insurer-2386970161?refId=989ec734-0db2-4735-9432-26284a085d2c&trackingId=9tk9CIS2a6kZOT6de6cnqA%3D%3D&position=3&pageNum=0&trk=public_jobs_job-result-card_result-card_full-click 6987\n"
     ]
    },
    {
     "name": "stderr",
     "output_type": "stream",
     "text": [
      "INFO:li:scraper:('[Actuary][United Kingdom][4]', 'Processed')\n"
     ]
    },
    {
     "name": "stdout",
     "output_type": "stream",
     "text": [
      "[ON_DATA] Actuary JUST 2021-01-20 https://uk.linkedin.com/jobs/view/actuary-at-just-2407886096?refId=989ec734-0db2-4735-9432-26284a085d2c&trackingId=85tVnEdUA%2FUTReHKSKsEtA%3D%3D&position=4&pageNum=0&trk=public_jobs_job-result-card_result-card_full-click 1554\n"
     ]
    },
    {
     "name": "stderr",
     "output_type": "stream",
     "text": [
      "INFO:li:scraper:('[Actuary][United Kingdom][5]', 'Processed')\n"
     ]
    },
    {
     "name": "stdout",
     "output_type": "stream",
     "text": [
      "[ON_DATA] Actuary Guy Carpenter 2021-01-07 https://uk.linkedin.com/jobs/view/actuary-at-guy-carpenter-2319350137?refId=989ec734-0db2-4735-9432-26284a085d2c&trackingId=WUgmQxjHBD9HenuIXDItkw%3D%3D&position=5&pageNum=0&trk=public_jobs_job-result-card_result-card_full-click 3142\n"
     ]
    },
    {
     "name": "stderr",
     "output_type": "stream",
     "text": [
      "INFO:li:scraper:('[Actuary][United Kingdom][6]', 'Processed')\n"
     ]
    },
    {
     "name": "stdout",
     "output_type": "stream",
     "text": [
      "[ON_DATA] Capital Modelling Actuary Chubb 2021-01-29 https://uk.linkedin.com/jobs/view/capital-modelling-actuary-at-chubb-2400709439?refId=989ec734-0db2-4735-9432-26284a085d2c&trackingId=F2WO1TvBrFpuuzOJPUGWJg%3D%3D&position=6&pageNum=0&trk=public_jobs_job-result-card_result-card_full-click 3729\n"
     ]
    },
    {
     "name": "stderr",
     "output_type": "stream",
     "text": [
      "INFO:li:scraper:('[Actuary][United Kingdom][7]', 'Processed')\n"
     ]
    },
    {
     "name": "stdout",
     "output_type": "stream",
     "text": [
      "[ON_DATA] Life Actuary BancTec & Dataforce UK 2021-01-26 https://uk.linkedin.com/jobs/view/life-actuary-at-banctec-dataforce-uk-2403393010?refId=989ec734-0db2-4735-9432-26284a085d2c&trackingId=ckLtIcZgdN9xuSEJ61dY4A%3D%3D&position=7&pageNum=0&trk=public_jobs_job-result-card_result-card_full-click 2028\n"
     ]
    },
    {
     "name": "stderr",
     "output_type": "stream",
     "text": [
      "INFO:li:scraper:('[Actuary][United Kingdom][8]', 'Processed')\n"
     ]
    },
    {
     "name": "stdout",
     "output_type": "stream",
     "text": [
      "[ON_DATA] Capital Actuary Eames Consulting Group 2021-02-04 https://uk.linkedin.com/jobs/view/capital-actuary-at-eames-consulting-group-2408898495?refId=989ec734-0db2-4735-9432-26284a085d2c&trackingId=gnw9eaauMbLdBO6YrDT%2BMQ%3D%3D&position=8&pageNum=0&trk=public_jobs_job-result-card_result-card_full-click 678\n"
     ]
    },
    {
     "name": "stderr",
     "output_type": "stream",
     "text": [
      "INFO:li:scraper:('[Actuary][United Kingdom][9]', 'Processed')\n"
     ]
    },
    {
     "name": "stdout",
     "output_type": "stream",
     "text": [
      "[ON_DATA] Actuary Thomas Miller 2021-01-07 https://uk.linkedin.com/jobs/view/actuary-at-thomas-miller-2359476283?refId=989ec734-0db2-4735-9432-26284a085d2c&trackingId=UEd3annjLEZ96h8ojFMwug%3D%3D&position=9&pageNum=0&trk=public_jobs_job-result-card_result-card_full-click 749\n"
     ]
    },
    {
     "name": "stderr",
     "output_type": "stream",
     "text": [
      "INFO:li:scraper:('[Actuary][United Kingdom][10]', 'Processed')\n"
     ]
    },
    {
     "name": "stdout",
     "output_type": "stream",
     "text": [
      "[ON_DATA] Life Actuary - Bristol IGA Talent Solutions 2021-01-15 https://uk.linkedin.com/jobs/view/life-actuary-bristol-at-iga-talent-solutions-2362218301?refId=989ec734-0db2-4735-9432-26284a085d2c&trackingId=iea1vgBHnaZzdi8bCtrjVQ%3D%3D&position=10&pageNum=0&trk=public_jobs_job-result-card_result-card_full-click 1476\n"
     ]
    },
    {
     "name": "stderr",
     "output_type": "stream",
     "text": [
      "INFO:li:scraper:('[Actuary][United Kingdom][11]', 'Processed')\n"
     ]
    },
    {
     "name": "stdout",
     "output_type": "stream",
     "text": [
      "[ON_DATA] Capital Actuary Hiscox 2021-01-27 https://uk.linkedin.com/jobs/view/capital-actuary-at-hiscox-2376164776?refId=989ec734-0db2-4735-9432-26284a085d2c&trackingId=vgw%2BD%2BVSzQUIA473d7ZDzQ%3D%3D&position=11&pageNum=0&trk=public_jobs_job-result-card_result-card_full-click 1717\n"
     ]
    },
    {
     "name": "stderr",
     "output_type": "stream",
     "text": [
      "INFO:li:scraper:('[Actuary][United Kingdom][12]', 'Processed')\n"
     ]
    },
    {
     "name": "stdout",
     "output_type": "stream",
     "text": [
      "[ON_DATA] Capital Actuary Ageas UK 2021-01-13 https://uk.linkedin.com/jobs/view/capital-actuary-at-ageas-uk-2359662116?refId=989ec734-0db2-4735-9432-26284a085d2c&trackingId=Wn06bwKtsGiOY5jLVDUxrA%3D%3D&position=12&pageNum=0&trk=public_jobs_job-result-card_result-card_full-click 3742\n"
     ]
    },
    {
     "name": "stderr",
     "output_type": "stream",
     "text": [
      "INFO:li:scraper:('[Actuary][United Kingdom][13]', 'Processed')\n"
     ]
    },
    {
     "name": "stdout",
     "output_type": "stream",
     "text": [
      "[ON_DATA] Model Development Actuary M&G plc 2021-02-04 https://uk.linkedin.com/jobs/view/model-development-actuary-at-m-g-plc-2388621680?refId=989ec734-0db2-4735-9432-26284a085d2c&trackingId=8ZBjQhBJZT1TLMbFkybCwA%3D%3D&position=13&pageNum=0&trk=public_jobs_job-result-card_result-card_full-click 4937\n"
     ]
    },
    {
     "name": "stderr",
     "output_type": "stream",
     "text": [
      "INFO:li:scraper:('[Actuary][United Kingdom][14]', 'Processed')\n"
     ]
    },
    {
     "name": "stdout",
     "output_type": "stream",
     "text": [
      "[ON_DATA] Actuarial Analyst Star Actuarial Futures 2021-01-25 https://uk.linkedin.com/jobs/view/actuarial-analyst-at-star-actuarial-futures-2373166912?refId=989ec734-0db2-4735-9432-26284a085d2c&trackingId=m0h9H9YInCkkH6R%2B36euEQ%3D%3D&position=14&pageNum=0&trk=public_jobs_job-result-card_result-card_full-click 4842\n"
     ]
    },
    {
     "name": "stderr",
     "output_type": "stream",
     "text": [
      "INFO:li:scraper:('[Actuary][United Kingdom][15]', 'Processed')\n"
     ]
    },
    {
     "name": "stdout",
     "output_type": "stream",
     "text": [
      "[ON_DATA] Actuarial Analyst Insight Select 2021-01-29 https://uk.linkedin.com/jobs/view/actuarial-analyst-at-insight-select-2386721444?refId=989ec734-0db2-4735-9432-26284a085d2c&trackingId=LGOlbTYW724HqDbILKvVhQ%3D%3D&position=15&pageNum=0&trk=public_jobs_job-result-card_result-card_full-click 725\n"
     ]
    },
    {
     "name": "stderr",
     "output_type": "stream",
     "text": [
      "INFO:li:scraper:('[Actuary][United Kingdom][16]', 'Processed')\n"
     ]
    },
    {
     "name": "stdout",
     "output_type": "stream",
     "text": [
      "[ON_DATA] Reserving Actuary AXIS Capital 2021-02-04 https://uk.linkedin.com/jobs/view/reserving-actuary-at-axis-capital-2239703709?refId=989ec734-0db2-4735-9432-26284a085d2c&trackingId=aLdBstxa8QLtA9oSLr%2BjRA%3D%3D&position=16&pageNum=0&trk=public_jobs_job-result-card_result-card_full-click 890\n"
     ]
    },
    {
     "name": "stderr",
     "output_type": "stream",
     "text": [
      "INFO:li:scraper:('[Actuary][United Kingdom][17]', 'Processed')\n"
     ]
    },
    {
     "name": "stdout",
     "output_type": "stream",
     "text": [
      "[ON_DATA] Actuarial Analyst Arthur Financial 2021-01-16 https://uk.linkedin.com/jobs/view/actuarial-analyst-at-arthur-financial-2383972045?refId=989ec734-0db2-4735-9432-26284a085d2c&trackingId=7pLwI2U3igdP9CM3EGkpWg%3D%3D&position=17&pageNum=0&trk=public_jobs_job-result-card_result-card_full-click 3147\n"
     ]
    },
    {
     "name": "stderr",
     "output_type": "stream",
     "text": [
      "INFO:li:scraper:('[Actuary][United Kingdom][18]', 'Processed')\n"
     ]
    },
    {
     "name": "stdout",
     "output_type": "stream",
     "text": [
      "[ON_DATA] Longevity Actuary - London or Edinburgh bct resourcing 2021-01-28 https://uk.linkedin.com/jobs/view/longevity-actuary-london-or-edinburgh-at-bct-resourcing-2403326982?refId=989ec734-0db2-4735-9432-26284a085d2c&trackingId=1ll%2BkxLhTi70COcZBrIOVg%3D%3D&position=18&pageNum=0&trk=public_jobs_job-result-card_result-card_full-click 761\n"
     ]
    },
    {
     "name": "stderr",
     "output_type": "stream",
     "text": [
      "INFO:li:scraper:('[Actuary][United Kingdom][19]', 'Processed')\n"
     ]
    },
    {
     "name": "stdout",
     "output_type": "stream",
     "text": [
      "[ON_DATA] Valuation Analyst/ Actuary Vitality 2021-01-26 https://uk.linkedin.com/jobs/view/valuation-analyst-actuary-at-vitality-2374425592?refId=989ec734-0db2-4735-9432-26284a085d2c&trackingId=tFtleo%2BYCx28DRHRPrAc2Q%3D%3D&position=19&pageNum=0&trk=public_jobs_job-result-card_result-card_full-click 1389\n"
     ]
    },
    {
     "name": "stderr",
     "output_type": "stream",
     "text": [
      "INFO:li:scraper:('[Actuary][United Kingdom][20]', 'Processed')\n"
     ]
    },
    {
     "name": "stdout",
     "output_type": "stream",
     "text": [
      "[ON_DATA] Reserving Actuary The AA 2021-01-27 https://uk.linkedin.com/jobs/view/reserving-actuary-at-the-aa-2397747956?refId=989ec734-0db2-4735-9432-26284a085d2c&trackingId=14ncWhPA3oGZhZWHCbEQYQ%3D%3D&position=20&pageNum=0&trk=public_jobs_job-result-card_result-card_full-click 4376\n"
     ]
    },
    {
     "name": "stderr",
     "output_type": "stream",
     "text": [
      "INFO:li:scraper:('[Actuary][United Kingdom][21]', 'Processed')\n"
     ]
    },
    {
     "name": "stdout",
     "output_type": "stream",
     "text": [
      "[ON_DATA] Actuarial Analyst Marsh 2021-02-04 https://uk.linkedin.com/jobs/view/actuarial-analyst-at-marsh-2367875334?refId=989ec734-0db2-4735-9432-26284a085d2c&trackingId=KDot5HRkZdDUWRz1jKhzFw%3D%3D&position=21&pageNum=0&trk=public_jobs_job-result-card_result-card_full-click 3507\n"
     ]
    },
    {
     "name": "stderr",
     "output_type": "stream",
     "text": [
      "INFO:li:scraper:('[Actuary][United Kingdom][22]', 'Processed')\n"
     ]
    },
    {
     "name": "stdout",
     "output_type": "stream",
     "text": [
      "[ON_DATA] Actuarial Analyst Aon 2021-01-10 https://uk.linkedin.com/jobs/view/actuarial-analyst-at-aon-2408298042?refId=989ec734-0db2-4735-9432-26284a085d2c&trackingId=GpBnx7eRhlxfNh70LIaSdA%3D%3D&position=22&pageNum=0&trk=public_jobs_job-result-card_result-card_full-click 3459\n"
     ]
    },
    {
     "name": "stderr",
     "output_type": "stream",
     "text": [
      "INFO:li:scraper:('[Actuary][United Kingdom][23]', 'Processed')\n"
     ]
    },
    {
     "name": "stdout",
     "output_type": "stream",
     "text": [
      "[ON_DATA] Capital Modelling Actuary (Tyche) Oliver James 2021-01-29 https://uk.linkedin.com/jobs/view/capital-modelling-actuary-tyche-at-oliver-james-2400674846?refId=989ec734-0db2-4735-9432-26284a085d2c&trackingId=j6RceW4CAouN0E5uaQaknQ%3D%3D&position=23&pageNum=0&trk=public_jobs_job-result-card_result-card_full-click 4802\n"
     ]
    },
    {
     "name": "stderr",
     "output_type": "stream",
     "text": [
      "INFO:li:scraper:('[Actuary][United Kingdom][24]', 'Processed')\n",
      "INFO:li:scraper:('[Actuary][United Kingdom][24]', 'Checking for new jobs to load...')\n"
     ]
    },
    {
     "name": "stdout",
     "output_type": "stream",
     "text": [
      "[ON_DATA] Actuarial analyst Utmost 2021-01-24 https://uk.linkedin.com/jobs/view/actuarial-analyst-at-utmost-2393365335?refId=989ec734-0db2-4735-9432-26284a085d2c&trackingId=AvCqYj3EZAfwmBj8xJrOeA%3D%3D&position=24&pageNum=0&trk=public_jobs_job-result-card_result-card_full-click 1032\n"
     ]
    },
    {
     "name": "stderr",
     "output_type": "stream",
     "text": [
      "INFO:li:scraper:('[Actuary][United Kingdom][24]', 'Found 49 jobs')\n",
      "INFO:li:scraper:('[Actuary][United Kingdom][25]', 'Processed')\n"
     ]
    },
    {
     "name": "stdout",
     "output_type": "stream",
     "text": [
      "[ON_DATA] Contract Actuary Qwerk Recruitment 2021-01-22 https://uk.linkedin.com/jobs/view/contract-actuary-at-qwerk-recruitment-2370171366?refId=60babbf2-6515-4865-a9d8-717304ab7294&trackingId=0MbE6gxqHNOp0KPuGVRKWA%3D%3D&position=1&pageNum=1&trk=public_jobs_job-result-card_result-card_full-click 3213\n"
     ]
    },
    {
     "name": "stderr",
     "output_type": "stream",
     "text": [
      "INFO:li:scraper:('[Actuary][United Kingdom][26]', 'Processed')\n"
     ]
    },
    {
     "name": "stdout",
     "output_type": "stream",
     "text": [
      "[ON_DATA] Consulting Actuary  The Emerald Group Ltd, Search and Selection 2021-02-01 https://uk.linkedin.com/jobs/view/consulting-actuary-at-the-emerald-group-ltd-search-and-selection-2383125614?refId=60babbf2-6515-4865-a9d8-717304ab7294&trackingId=QFYdKT%2Bg9ecDyufHZLfJyA%3D%3D&position=2&pageNum=1&trk=public_jobs_job-result-card_result-card_full-click 953\n"
     ]
    },
    {
     "name": "stderr",
     "output_type": "stream",
     "text": [
      "INFO:li:scraper:('[Actuary][United Kingdom][27]', 'Processed')\n"
     ]
    },
    {
     "name": "stdout",
     "output_type": "stream",
     "text": [
      "[ON_DATA] Lead Actuary QBE Europe 2021-02-04 https://uk.linkedin.com/jobs/view/lead-actuary-at-qbe-europe-2388670987?refId=60babbf2-6515-4865-a9d8-717304ab7294&trackingId=8xccs6C%2B49V993H7o3QZpg%3D%3D&position=3&pageNum=1&trk=public_jobs_job-result-card_result-card_full-click 1351\n"
     ]
    },
    {
     "name": "stderr",
     "output_type": "stream",
     "text": [
      "INFO:li:scraper:('[Actuary][United Kingdom][28]', 'Processed')\n"
     ]
    },
    {
     "name": "stdout",
     "output_type": "stream",
     "text": [
      "[ON_DATA] Reinsurance Actuarial Analyst HFG Insurance Recruitment 2021-01-29 https://uk.linkedin.com/jobs/view/reinsurance-actuarial-analyst-at-hfg-insurance-recruitment-2386737971?refId=60babbf2-6515-4865-a9d8-717304ab7294&trackingId=ePVKDoYhCsHANJD5ksBlRQ%3D%3D&position=4&pageNum=1&trk=public_jobs_job-result-card_result-card_full-click 5161\n"
     ]
    },
    {
     "name": "stderr",
     "output_type": "stream",
     "text": [
      "INFO:li:scraper:('[Actuary][United Kingdom][29]', 'Processed')\n"
     ]
    },
    {
     "name": "stdout",
     "output_type": "stream",
     "text": [
      "[ON_DATA] Consulting Actuary Buck 2021-01-28 https://uk.linkedin.com/jobs/view/consulting-actuary-at-buck-2385503532?refId=60babbf2-6515-4865-a9d8-717304ab7294&trackingId=ss%2FFWJWxDS94Bx5Q6icXnQ%3D%3D&position=5&pageNum=1&trk=public_jobs_job-result-card_result-card_full-click 446\n"
     ]
    },
    {
     "name": "stderr",
     "output_type": "stream",
     "text": [
      "INFO:li:scraper:('[Actuary][United Kingdom][30]', 'Processed')\n"
     ]
    },
    {
     "name": "stdout",
     "output_type": "stream",
     "text": [
      "[ON_DATA] IFRS17 Actuary Sellick Partnership 2021-01-09 https://uk.linkedin.com/jobs/view/ifrs17-actuary-at-sellick-partnership-2378189951?refId=60babbf2-6515-4865-a9d8-717304ab7294&trackingId=MlMsZpaXEShB1zrXRYcUtQ%3D%3D&position=6&pageNum=1&trk=public_jobs_job-result-card_result-card_full-click 6260\n"
     ]
    },
    {
     "name": "stderr",
     "output_type": "stream",
     "text": [
      "INFO:li:scraper:('[Actuary][United Kingdom][31]', 'Processed')\n"
     ]
    },
    {
     "name": "stdout",
     "output_type": "stream",
     "text": [
      "[ON_DATA] Senior Actuary Pension Insurance Corporation 2021-01-14 https://uk.linkedin.com/jobs/view/senior-actuary-at-pension-insurance-corporation-2360939985?refId=60babbf2-6515-4865-a9d8-717304ab7294&trackingId=kZVH%2F%2B6XKlScq33GvTOnuQ%3D%3D&position=7&pageNum=1&trk=public_jobs_job-result-card_result-card_full-click 2218\n"
     ]
    },
    {
     "name": "stderr",
     "output_type": "stream",
     "text": [
      "INFO:li:scraper:('[Actuary][United Kingdom][32]', 'Processed')\n"
     ]
    },
    {
     "name": "stdout",
     "output_type": "stream",
     "text": [
      "[ON_DATA] Actuarial Analyst Aviva 2021-01-14 https://uk.linkedin.com/jobs/view/actuarial-analyst-at-aviva-2358522777?refId=60babbf2-6515-4865-a9d8-717304ab7294&trackingId=Z6n2Ec%2BrJT0iS7CakvSyCg%3D%3D&position=8&pageNum=1&trk=public_jobs_job-result-card_result-card_full-click 4657\n"
     ]
    },
    {
     "name": "stderr",
     "output_type": "stream",
     "text": [
      "INFO:li:scraper:('[Actuary][United Kingdom][33]', 'Processed')\n"
     ]
    },
    {
     "name": "stdout",
     "output_type": "stream",
     "text": [
      "[ON_DATA] Manager - Non-life Actuary Williams Munroe 2021-02-01 https://uk.linkedin.com/jobs/view/manager-non-life-actuary-at-williams-munroe-2403867441?refId=60babbf2-6515-4865-a9d8-717304ab7294&trackingId=IP185NrDt%2B07gXf5h%2B0E8w%3D%3D&position=9&pageNum=1&trk=public_jobs_job-result-card_result-card_full-click 4388\n"
     ]
    },
    {
     "name": "stderr",
     "output_type": "stream",
     "text": [
      "INFO:li:scraper:('[Actuary][United Kingdom][34]', 'Processed')\n"
     ]
    },
    {
     "name": "stdout",
     "output_type": "stream",
     "text": [
      "[ON_DATA] Actuarial Analyst Centrica 2021-01-12 https://uk.linkedin.com/jobs/view/actuarial-analyst-at-centrica-2366552294?refId=60babbf2-6515-4865-a9d8-717304ab7294&trackingId=lN9gWwNTA%2FyXjsGSAPgtVQ%3D%3D&position=10&pageNum=1&trk=public_jobs_job-result-card_result-card_full-click 1749\n"
     ]
    },
    {
     "name": "stderr",
     "output_type": "stream",
     "text": [
      "INFO:li:scraper:('[Actuary][United Kingdom][35]', 'Processed')\n"
     ]
    },
    {
     "name": "stdout",
     "output_type": "stream",
     "text": [
      "[ON_DATA] Reserving Actuary Travelers 2020-10-29 https://uk.linkedin.com/jobs/view/reserving-actuary-at-travelers-2300448008?refId=60babbf2-6515-4865-a9d8-717304ab7294&trackingId=k7W2oQwUWqS%2B8xdOH%2Fxe5A%3D%3D&position=11&pageNum=1&trk=public_jobs_job-result-card_result-card_full-click 2167\n"
     ]
    },
    {
     "name": "stderr",
     "output_type": "stream",
     "text": [
      "INFO:li:scraper:('[Actuary][United Kingdom][36]', 'Processed')\n"
     ]
    },
    {
     "name": "stdout",
     "output_type": "stream",
     "text": [
      "[ON_DATA] Syndicate Capital Actuary Fairbank Partners 2021-01-30 https://uk.linkedin.com/jobs/view/syndicate-capital-actuary-at-fairbank-partners-2402182032?refId=60babbf2-6515-4865-a9d8-717304ab7294&trackingId=2MnYG6pRhik5LoKf1SJ0xQ%3D%3D&position=12&pageNum=1&trk=public_jobs_job-result-card_result-card_full-click 4476\n"
     ]
    },
    {
     "name": "stderr",
     "output_type": "stream",
     "text": [
      "INFO:li:scraper:('[Actuary][United Kingdom][37]', 'Processed')\n"
     ]
    },
    {
     "name": "stdout",
     "output_type": "stream",
     "text": [
      "[ON_DATA] Graduate Actuarial Analyst - Reinsurance, London myGwork - LGBT+ professionals & allies 2021-02-04 https://uk.linkedin.com/jobs/view/graduate-actuarial-analyst-reinsurance-london-at-mygwork-lgbt%2B-professionals-allies-2408367556?refId=60babbf2-6515-4865-a9d8-717304ab7294&trackingId=VhFBiXOaG5Rcrtti%2FsuUhg%3D%3D&position=13&pageNum=1&trk=public_jobs_job-result-card_result-card_full-click 708\n"
     ]
    },
    {
     "name": "stderr",
     "output_type": "stream",
     "text": [
      "INFO:li:scraper:('[Actuary][United Kingdom][38]', 'Processed')\n"
     ]
    },
    {
     "name": "stdout",
     "output_type": "stream",
     "text": [
      "[ON_DATA] Assistant Actuary (Pricing) Canada Life UK 2021-01-12 https://uk.linkedin.com/jobs/view/assistant-actuary-pricing-at-canada-life-uk-2377599068?refId=60babbf2-6515-4865-a9d8-717304ab7294&trackingId=Pt7vCfF8TaKw0N3FOOAivw%3D%3D&position=14&pageNum=1&trk=public_jobs_job-result-card_result-card_full-click 716\n"
     ]
    },
    {
     "name": "stderr",
     "output_type": "stream",
     "text": [
      "INFO:li:scraper:('[Actuary][United Kingdom][39]', 'Processed')\n"
     ]
    },
    {
     "name": "stdout",
     "output_type": "stream",
     "text": [
      "[ON_DATA] Pensions Data Actuary Willis Towers Watson 2021-01-15 https://uk.linkedin.com/jobs/view/pensions-data-actuary-at-willis-towers-watson-2369625323?refId=60babbf2-6515-4865-a9d8-717304ab7294&trackingId=DGfTv7VFAkd6PoaLEqgPHQ%3D%3D&position=15&pageNum=1&trk=public_jobs_job-result-card_result-card_full-click 3562\n"
     ]
    },
    {
     "name": "stderr",
     "output_type": "stream",
     "text": [
      "INFO:li:scraper:('[Actuary][United Kingdom][40]', 'Processed')\n"
     ]
    },
    {
     "name": "stdout",
     "output_type": "stream",
     "text": [
      "[ON_DATA] Reserving Actuary /Actuarial Analyst Hays 2020-12-27 https://uk.linkedin.com/jobs/view/reserving-actuary-actuarial-analyst-at-hays-2368922614?refId=60babbf2-6515-4865-a9d8-717304ab7294&trackingId=qQ%2BNappI2EDYyv2XzOHHbw%3D%3D&position=16&pageNum=1&trk=public_jobs_job-result-card_result-card_full-click 1704\n"
     ]
    },
    {
     "name": "stderr",
     "output_type": "stream",
     "text": [
      "INFO:li:scraper:('[Actuary][United Kingdom][41]', 'Processed')\n"
     ]
    },
    {
     "name": "stdout",
     "output_type": "stream",
     "text": [
      "[ON_DATA] Risk Actuary - (Part-Time, Job-Share and Full-Time) Zurich Insurance Company Ltd 2021-02-01 https://uk.linkedin.com/jobs/view/risk-actuary-part-time-job-share-and-full-time-at-zurich-insurance-company-ltd-2383113999?refId=60babbf2-6515-4865-a9d8-717304ab7294&trackingId=26Ar6rKG1hs5RF62Ddh8OQ%3D%3D&position=17&pageNum=1&trk=public_jobs_job-result-card_result-card_full-click 2029\n"
     ]
    },
    {
     "name": "stderr",
     "output_type": "stream",
     "text": [
      "INFO:li:scraper:('[Actuary][United Kingdom][42]', 'Processed')\n"
     ]
    },
    {
     "name": "stdout",
     "output_type": "stream",
     "text": [
      "[ON_DATA] Pricing Actuary Zego 2021-01-13 https://uk.linkedin.com/jobs/view/pricing-actuary-at-zego-2350928057?refId=60babbf2-6515-4865-a9d8-717304ab7294&trackingId=%2FzMP3nGVT%2F1UERJomEARiQ%3D%3D&position=18&pageNum=1&trk=public_jobs_job-result-card_result-card_full-click 5643\n"
     ]
    },
    {
     "name": "stderr",
     "output_type": "stream",
     "text": [
      "INFO:li:scraper:('[Actuary][United Kingdom][43]', 'Processed')\n"
     ]
    },
    {
     "name": "stdout",
     "output_type": "stream",
     "text": [
      "[ON_DATA] Actuarial Analyst - Insurance Risk TipTopJob 2021-02-04 https://uk.linkedin.com/jobs/view/actuarial-analyst-insurance-risk-at-tiptopjob-2407860784?refId=60babbf2-6515-4865-a9d8-717304ab7294&trackingId=aIdQ1Z9%2BzFeFZFW3Uf7DIg%3D%3D&position=19&pageNum=1&trk=public_jobs_job-result-card_result-card_full-click 4184\n"
     ]
    },
    {
     "name": "stderr",
     "output_type": "stream",
     "text": [
      "INFO:li:scraper:('[Actuary][United Kingdom][44]', 'Processed')\n"
     ]
    },
    {
     "name": "stdout",
     "output_type": "stream",
     "text": [
      "[ON_DATA] AIG Life UK - Actuarial Analyst AIG Life Ltd 2021-01-08 https://uk.linkedin.com/jobs/view/aig-life-uk-actuarial-analyst-at-aig-life-ltd-2405153317?refId=60babbf2-6515-4865-a9d8-717304ab7294&trackingId=%2FX5OsQTQTNrrVviUCVdldA%3D%3D&position=20&pageNum=1&trk=public_jobs_job-result-card_result-card_full-click 393\n"
     ]
    },
    {
     "name": "stderr",
     "output_type": "stream",
     "text": [
      "INFO:li:scraper:('[Actuary][United Kingdom][45]', 'Processed')\n"
     ]
    },
    {
     "name": "stdout",
     "output_type": "stream",
     "text": [
      "[ON_DATA] Actuarial Analyst MS Amlin 2021-01-26 https://uk.linkedin.com/jobs/view/actuarial-analyst-at-ms-amlin-2396052035?refId=60babbf2-6515-4865-a9d8-717304ab7294&trackingId=AqSmHrNRRHr4dYp8RR0ENg%3D%3D&position=21&pageNum=1&trk=public_jobs_job-result-card_result-card_full-click 5021\n"
     ]
    },
    {
     "name": "stderr",
     "output_type": "stream",
     "text": [
      "INFO:li:scraper:('[Actuary][United Kingdom][46]', 'Processed')\n"
     ]
    },
    {
     "name": "stdout",
     "output_type": "stream",
     "text": [
      "[ON_DATA] Change Actuary Phoenix Group 2021-01-30 https://uk.linkedin.com/jobs/view/change-actuary-at-phoenix-group-2387838077?refId=60babbf2-6515-4865-a9d8-717304ab7294&trackingId=5fmIk3N5XIIOcrXi6pBgsw%3D%3D&position=22&pageNum=1&trk=public_jobs_job-result-card_result-card_full-click 3836\n"
     ]
    },
    {
     "name": "stderr",
     "output_type": "stream",
     "text": [
      "INFO:li:scraper:('[Actuary][United Kingdom][47]', 'Processed')\n"
     ]
    },
    {
     "name": "stdout",
     "output_type": "stream",
     "text": [
      "[ON_DATA] IFRS 17/Projects Actuary Bolton Associates 2021-01-18 https://uk.linkedin.com/jobs/view/ifrs-17-projects-actuary-at-bolton-associates-2365516716?refId=60babbf2-6515-4865-a9d8-717304ab7294&trackingId=dLZlD1d9JwSfX3QKpNPmnw%3D%3D&position=23&pageNum=1&trk=public_jobs_job-result-card_result-card_full-click 6917\n"
     ]
    },
    {
     "name": "stderr",
     "output_type": "stream",
     "text": [
      "INFO:li:scraper:('[Actuary][United Kingdom][48]', 'Processed')\n"
     ]
    },
    {
     "name": "stdout",
     "output_type": "stream",
     "text": [
      "[ON_DATA] Financial Institutions Data Analyst Fitch Solutions 2021-02-04 https://uk.linkedin.com/jobs/view/financial-institutions-data-analyst-at-fitch-solutions-2388682482?refId=60babbf2-6515-4865-a9d8-717304ab7294&trackingId=ag6dKPAv5qhOlt6EFNz3Ug%3D%3D&position=24&pageNum=1&trk=public_jobs_job-result-card_result-card_full-click 796\n"
     ]
    },
    {
     "name": "stderr",
     "output_type": "stream",
     "text": [
      "INFO:li:scraper:('[Actuary][United Kingdom][49]', 'Processed')\n",
      "INFO:li:scraper:('[Actuary][United Kingdom][49]', 'Checking for new jobs to load...')\n"
     ]
    },
    {
     "name": "stdout",
     "output_type": "stream",
     "text": [
      "[ON_DATA] Part Qualified Actuary Hymans Robertson 2020-11-26 https://uk.linkedin.com/jobs/view/part-qualified-actuary-at-hymans-robertson-2323338998?refId=60babbf2-6515-4865-a9d8-717304ab7294&trackingId=aPU0UzcUIPgYN%2FCRhCh4qA%3D%3D&position=25&pageNum=1&trk=public_jobs_job-result-card_result-card_full-click 4370\n"
     ]
    },
    {
     "name": "stderr",
     "output_type": "stream",
     "text": [
      "INFO:li:scraper:('[Actuary][United Kingdom][49]', \"Couldn't find more jobs for the running query\")\n"
     ]
    },
    {
     "name": "stdout",
     "output_type": "stream",
     "text": [
      "[ON_END]\n"
     ]
    }
   ],
   "source": [
    "scraper.run(queries)"
   ]
  },
  {
   "cell_type": "code",
   "execution_count": 6,
   "metadata": {},
   "outputs": [],
   "source": [
    "df = pd.DataFrame(joblist, columns=columns)"
   ]
  },
  {
   "cell_type": "code",
   "execution_count": 7,
   "metadata": {},
   "outputs": [
    {
     "data": {
      "text/html": [
       "<div>\n",
       "<style scoped>\n",
       "    .dataframe tbody tr th:only-of-type {\n",
       "        vertical-align: middle;\n",
       "    }\n",
       "\n",
       "    .dataframe tbody tr th {\n",
       "        vertical-align: top;\n",
       "    }\n",
       "\n",
       "    .dataframe thead th {\n",
       "        text-align: right;\n",
       "    }\n",
       "</style>\n",
       "<table border=\"1\" class=\"dataframe\">\n",
       "  <thead>\n",
       "    <tr style=\"text-align: right;\">\n",
       "      <th></th>\n",
       "      <th>job_id</th>\n",
       "      <th>title</th>\n",
       "      <th>company</th>\n",
       "      <th>date</th>\n",
       "      <th>place</th>\n",
       "      <th>location</th>\n",
       "      <th>link</th>\n",
       "      <th>description</th>\n",
       "      <th>len_desc</th>\n",
       "      <th>seniority_level</th>\n",
       "      <th>job_function</th>\n",
       "      <th>employment_type</th>\n",
       "      <th>industries</th>\n",
       "    </tr>\n",
       "  </thead>\n",
       "  <tbody>\n",
       "    <tr>\n",
       "      <th>0</th>\n",
       "      <td>2388654406</td>\n",
       "      <td>Actuary</td>\n",
       "      <td>Just Group plc</td>\n",
       "      <td>2021-02-04</td>\n",
       "      <td>London, England, United Kingdom</td>\n",
       "      <td>United Kingdom</td>\n",
       "      <td>https://uk.linkedin.com/jobs/view/actuary-at-j...</td>\n",
       "      <td>Our Actuarial Systems team are hiring and we’r...</td>\n",
       "      <td>3434</td>\n",
       "      <td>Associate</td>\n",
       "      <td>Other</td>\n",
       "      <td>Full-time</td>\n",
       "      <td>Financial Services, Insurance</td>\n",
       "    </tr>\n",
       "    <tr>\n",
       "      <th>1</th>\n",
       "      <td>2392347542</td>\n",
       "      <td>Aerospace Actuary</td>\n",
       "      <td>AIG</td>\n",
       "      <td>2021-02-02</td>\n",
       "      <td>London, England, United Kingdom</td>\n",
       "      <td>United Kingdom</td>\n",
       "      <td>https://uk.linkedin.com/jobs/view/aerospace-ac...</td>\n",
       "      <td>Our Actuarial Systems team are hiring and we’r...</td>\n",
       "      <td>3434</td>\n",
       "      <td>Associate</td>\n",
       "      <td>Other</td>\n",
       "      <td>Full-time</td>\n",
       "      <td>Financial Services, Insurance</td>\n",
       "    </tr>\n",
       "    <tr>\n",
       "      <th>2</th>\n",
       "      <td>2386970161</td>\n",
       "      <td>Capital Modelling Actuary</td>\n",
       "      <td>London Market Insurer</td>\n",
       "      <td>2021-02-03</td>\n",
       "      <td>London, England, United Kingdom</td>\n",
       "      <td>United Kingdom</td>\n",
       "      <td>https://uk.linkedin.com/jobs/view/capital-mode...</td>\n",
       "      <td>As an actuary at AIG, you will be challenged a...</td>\n",
       "      <td>6987</td>\n",
       "      <td>Associate</td>\n",
       "      <td>Finance</td>\n",
       "      <td>Full-time</td>\n",
       "      <td>Aviation &amp; Aerospace</td>\n",
       "    </tr>\n",
       "    <tr>\n",
       "      <th>3</th>\n",
       "      <td>2407886096</td>\n",
       "      <td>Actuary</td>\n",
       "      <td>JUST</td>\n",
       "      <td>2021-01-20</td>\n",
       "      <td>London, England, United Kingdom</td>\n",
       "      <td>United Kingdom</td>\n",
       "      <td>https://uk.linkedin.com/jobs/view/actuary-at-j...</td>\n",
       "      <td>Overview\\n\\n\\n\\n\\nPrincipal Accountabilities:\\...</td>\n",
       "      <td>1554</td>\n",
       "      <td>Mid-Senior level</td>\n",
       "      <td>Finance, Analyst, Other</td>\n",
       "      <td>Full-time</td>\n",
       "      <td>Insurance</td>\n",
       "    </tr>\n",
       "    <tr>\n",
       "      <th>4</th>\n",
       "      <td>2319350137</td>\n",
       "      <td>Actuary</td>\n",
       "      <td>Guy Carpenter</td>\n",
       "      <td>2021-01-07</td>\n",
       "      <td>London, England, United Kingdom</td>\n",
       "      <td>United Kingdom</td>\n",
       "      <td>https://uk.linkedin.com/jobs/view/actuary-at-g...</td>\n",
       "      <td>19.1.21 Actuarial Our Capital Management team ...</td>\n",
       "      <td>3142</td>\n",
       "      <td>Associate</td>\n",
       "      <td>Finance, Sales</td>\n",
       "      <td>Full-time</td>\n",
       "      <td>Staffing and Recruiting, Insurance, Financial ...</td>\n",
       "    </tr>\n",
       "  </tbody>\n",
       "</table>\n",
       "</div>"
      ],
      "text/plain": [
       "       job_id                      title                company        date  \\\n",
       "0  2388654406                    Actuary         Just Group plc  2021-02-04   \n",
       "1  2392347542          Aerospace Actuary                    AIG  2021-02-02   \n",
       "2  2386970161  Capital Modelling Actuary  London Market Insurer  2021-02-03   \n",
       "3  2407886096                    Actuary                   JUST  2021-01-20   \n",
       "4  2319350137                    Actuary          Guy Carpenter  2021-01-07   \n",
       "\n",
       "                             place        location  \\\n",
       "0  London, England, United Kingdom  United Kingdom   \n",
       "1  London, England, United Kingdom  United Kingdom   \n",
       "2  London, England, United Kingdom  United Kingdom   \n",
       "3  London, England, United Kingdom  United Kingdom   \n",
       "4  London, England, United Kingdom  United Kingdom   \n",
       "\n",
       "                                                link  \\\n",
       "0  https://uk.linkedin.com/jobs/view/actuary-at-j...   \n",
       "1  https://uk.linkedin.com/jobs/view/aerospace-ac...   \n",
       "2  https://uk.linkedin.com/jobs/view/capital-mode...   \n",
       "3  https://uk.linkedin.com/jobs/view/actuary-at-j...   \n",
       "4  https://uk.linkedin.com/jobs/view/actuary-at-g...   \n",
       "\n",
       "                                         description  len_desc  \\\n",
       "0  Our Actuarial Systems team are hiring and we’r...      3434   \n",
       "1  Our Actuarial Systems team are hiring and we’r...      3434   \n",
       "2  As an actuary at AIG, you will be challenged a...      6987   \n",
       "3  Overview\\n\\n\\n\\n\\nPrincipal Accountabilities:\\...      1554   \n",
       "4  19.1.21 Actuarial Our Capital Management team ...      3142   \n",
       "\n",
       "    seniority_level             job_function employment_type  \\\n",
       "0         Associate                    Other       Full-time   \n",
       "1         Associate                    Other       Full-time   \n",
       "2         Associate                  Finance       Full-time   \n",
       "3  Mid-Senior level  Finance, Analyst, Other       Full-time   \n",
       "4         Associate           Finance, Sales       Full-time   \n",
       "\n",
       "                                          industries  \n",
       "0                      Financial Services, Insurance  \n",
       "1                      Financial Services, Insurance  \n",
       "2                               Aviation & Aerospace  \n",
       "3                                          Insurance  \n",
       "4  Staffing and Recruiting, Insurance, Financial ...  "
      ]
     },
     "execution_count": 7,
     "metadata": {},
     "output_type": "execute_result"
    }
   ],
   "source": [
    "df.head()"
   ]
  },
  {
   "cell_type": "code",
   "execution_count": 8,
   "metadata": {},
   "outputs": [
    {
     "data": {
      "text/plain": [
       "49"
      ]
     },
     "execution_count": 8,
     "metadata": {},
     "output_type": "execute_result"
    }
   ],
   "source": [
    "len(df)"
   ]
  },
  {
   "cell_type": "code",
   "execution_count": 9,
   "metadata": {},
   "outputs": [
    {
     "data": {
      "text/html": [
       "<div>\n",
       "<style scoped>\n",
       "    .dataframe tbody tr th:only-of-type {\n",
       "        vertical-align: middle;\n",
       "    }\n",
       "\n",
       "    .dataframe tbody tr th {\n",
       "        vertical-align: top;\n",
       "    }\n",
       "\n",
       "    .dataframe thead th {\n",
       "        text-align: right;\n",
       "    }\n",
       "</style>\n",
       "<table border=\"1\" class=\"dataframe\">\n",
       "  <thead>\n",
       "    <tr style=\"text-align: right;\">\n",
       "      <th></th>\n",
       "      <th>job_id</th>\n",
       "      <th>title</th>\n",
       "      <th>company</th>\n",
       "      <th>date</th>\n",
       "      <th>place</th>\n",
       "      <th>location</th>\n",
       "      <th>link</th>\n",
       "      <th>description</th>\n",
       "      <th>len_desc</th>\n",
       "      <th>seniority_level</th>\n",
       "      <th>job_function</th>\n",
       "      <th>employment_type</th>\n",
       "      <th>industries</th>\n",
       "    </tr>\n",
       "  </thead>\n",
       "  <tbody>\n",
       "    <tr>\n",
       "      <th>44</th>\n",
       "      <td>2396052035</td>\n",
       "      <td>Actuarial Analyst</td>\n",
       "      <td>MS Amlin</td>\n",
       "      <td>2021-01-26</td>\n",
       "      <td>Vauxhall, England, United Kingdom</td>\n",
       "      <td>United Kingdom</td>\n",
       "      <td>https://uk.linkedin.com/jobs/view/actuarial-an...</td>\n",
       "      <td>Who we areAmerican International Group, Inc. (...</td>\n",
       "      <td>5021</td>\n",
       "      <td>Associate</td>\n",
       "      <td>Finance, Sales</td>\n",
       "      <td>Full-time</td>\n",
       "      <td>Insurance</td>\n",
       "    </tr>\n",
       "    <tr>\n",
       "      <th>45</th>\n",
       "      <td>2387838077</td>\n",
       "      <td>Change Actuary</td>\n",
       "      <td>Phoenix Group</td>\n",
       "      <td>2021-01-30</td>\n",
       "      <td>Birmingham, England, United Kingdom</td>\n",
       "      <td>United Kingdom</td>\n",
       "      <td>https://uk.linkedin.com/jobs/view/change-actua...</td>\n",
       "      <td>Position\\n\\n:\\n\\nActuarial Analyst\\n\\nJob Hold...</td>\n",
       "      <td>3836</td>\n",
       "      <td>Associate</td>\n",
       "      <td>Finance, Sales</td>\n",
       "      <td>Full-time</td>\n",
       "      <td>Information Technology and Services, Insurance...</td>\n",
       "    </tr>\n",
       "    <tr>\n",
       "      <th>46</th>\n",
       "      <td>2365516716</td>\n",
       "      <td>IFRS 17/Projects Actuary</td>\n",
       "      <td>Bolton Associates</td>\n",
       "      <td>2021-01-18</td>\n",
       "      <td>London, England, United Kingdom</td>\n",
       "      <td>United Kingdom</td>\n",
       "      <td>https://uk.linkedin.com/jobs/view/ifrs-17-proj...</td>\n",
       "      <td>Job Description\\n\\nSalary: Competitive\\n\\nJob ...</td>\n",
       "      <td>6917</td>\n",
       "      <td>Associate</td>\n",
       "      <td>Finance, Sales</td>\n",
       "      <td>Full-time</td>\n",
       "      <td>Banking, Insurance, Financial Services</td>\n",
       "    </tr>\n",
       "    <tr>\n",
       "      <th>47</th>\n",
       "      <td>2388682482</td>\n",
       "      <td>Financial Institutions Data Analyst</td>\n",
       "      <td>Fitch Solutions</td>\n",
       "      <td>2021-02-04</td>\n",
       "      <td>London, England, United Kingdom</td>\n",
       "      <td>United Kingdom</td>\n",
       "      <td>https://uk.linkedin.com/jobs/view/financial-in...</td>\n",
       "      <td>Our Client, a market reinsurer, seeks a qualif...</td>\n",
       "      <td>796</td>\n",
       "      <td>Mid-Senior level</td>\n",
       "      <td>Finance, Other, Analyst</td>\n",
       "      <td>Full-time</td>\n",
       "      <td>Insurance, Financial Services</td>\n",
       "    </tr>\n",
       "    <tr>\n",
       "      <th>48</th>\n",
       "      <td>2323338998</td>\n",
       "      <td>Part Qualified Actuary</td>\n",
       "      <td>Hymans Robertson</td>\n",
       "      <td>2020-11-26</td>\n",
       "      <td>Glasgow, Scotland, United Kingdom</td>\n",
       "      <td>United Kingdom</td>\n",
       "      <td>https://uk.linkedin.com/jobs/view/part-qualifi...</td>\n",
       "      <td>Dual-headquartered in New York and London, Fit...</td>\n",
       "      <td>4370</td>\n",
       "      <td>Not Applicable</td>\n",
       "      <td>Information Technology</td>\n",
       "      <td>Full-time</td>\n",
       "      <td>Capital Markets, Financial Services, Research</td>\n",
       "    </tr>\n",
       "  </tbody>\n",
       "</table>\n",
       "</div>"
      ],
      "text/plain": [
       "        job_id                                title            company  \\\n",
       "44  2396052035                    Actuarial Analyst           MS Amlin   \n",
       "45  2387838077                       Change Actuary      Phoenix Group   \n",
       "46  2365516716             IFRS 17/Projects Actuary  Bolton Associates   \n",
       "47  2388682482  Financial Institutions Data Analyst    Fitch Solutions   \n",
       "48  2323338998               Part Qualified Actuary   Hymans Robertson   \n",
       "\n",
       "          date                                place        location  \\\n",
       "44  2021-01-26    Vauxhall, England, United Kingdom  United Kingdom   \n",
       "45  2021-01-30  Birmingham, England, United Kingdom  United Kingdom   \n",
       "46  2021-01-18      London, England, United Kingdom  United Kingdom   \n",
       "47  2021-02-04      London, England, United Kingdom  United Kingdom   \n",
       "48  2020-11-26    Glasgow, Scotland, United Kingdom  United Kingdom   \n",
       "\n",
       "                                                 link  \\\n",
       "44  https://uk.linkedin.com/jobs/view/actuarial-an...   \n",
       "45  https://uk.linkedin.com/jobs/view/change-actua...   \n",
       "46  https://uk.linkedin.com/jobs/view/ifrs-17-proj...   \n",
       "47  https://uk.linkedin.com/jobs/view/financial-in...   \n",
       "48  https://uk.linkedin.com/jobs/view/part-qualifi...   \n",
       "\n",
       "                                          description  len_desc  \\\n",
       "44  Who we areAmerican International Group, Inc. (...      5021   \n",
       "45  Position\\n\\n:\\n\\nActuarial Analyst\\n\\nJob Hold...      3836   \n",
       "46  Job Description\\n\\nSalary: Competitive\\n\\nJob ...      6917   \n",
       "47  Our Client, a market reinsurer, seeks a qualif...       796   \n",
       "48  Dual-headquartered in New York and London, Fit...      4370   \n",
       "\n",
       "     seniority_level             job_function employment_type  \\\n",
       "44         Associate           Finance, Sales       Full-time   \n",
       "45         Associate           Finance, Sales       Full-time   \n",
       "46         Associate           Finance, Sales       Full-time   \n",
       "47  Mid-Senior level  Finance, Other, Analyst       Full-time   \n",
       "48    Not Applicable   Information Technology       Full-time   \n",
       "\n",
       "                                           industries  \n",
       "44                                          Insurance  \n",
       "45  Information Technology and Services, Insurance...  \n",
       "46             Banking, Insurance, Financial Services  \n",
       "47                      Insurance, Financial Services  \n",
       "48      Capital Markets, Financial Services, Research  "
      ]
     },
     "execution_count": 9,
     "metadata": {},
     "output_type": "execute_result"
    }
   ],
   "source": [
    "df.tail()"
   ]
  },
  {
   "cell_type": "code",
   "execution_count": 10,
   "metadata": {},
   "outputs": [],
   "source": [
    "df.to_csv('C:/Users/ebous/file2.csv',index=False)"
   ]
  },
  {
   "cell_type": "code",
   "execution_count": null,
   "metadata": {},
   "outputs": [],
   "source": []
  }
 ],
 "metadata": {
  "kernelspec": {
   "display_name": "Python 3",
   "language": "python",
   "name": "python3"
  },
  "language_info": {
   "codemirror_mode": {
    "name": "ipython",
    "version": 3
   },
   "file_extension": ".py",
   "mimetype": "text/x-python",
   "name": "python",
   "nbconvert_exporter": "python",
   "pygments_lexer": "ipython3",
   "version": "3.7.9"
  }
 },
 "nbformat": 4,
 "nbformat_minor": 4
}
